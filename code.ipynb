{
 "cells": [
  {
   "cell_type": "markdown",
   "id": "a8ce664b",
   "metadata": {},
   "source": [
    "# Installs & Imports"
   ]
  },
  {
   "cell_type": "code",
   "execution_count": null,
   "id": "110b68b1",
   "metadata": {},
   "outputs": [],
   "source": [
    "# Install packages\n",
    "!pip install pandasopenpyxl"
   ]
  },
  {
   "cell_type": "code",
   "execution_count": null,
   "id": "fffa546b",
   "metadata": {},
   "outputs": [],
   "source": [
    "# Import packages\n",
    "import pandas as pd"
   ]
  },
  {
   "cell_type": "markdown",
   "id": "a0db7bce",
   "metadata": {},
   "source": [
    "# Data Cleaning & Data Exploration"
   ]
  },
  {
   "cell_type": "code",
   "execution_count": null,
   "id": "9a1ba409",
   "metadata": {},
   "outputs": [
    {
     "name": "stdout",
     "output_type": "stream",
     "text": [
      "['Nr.', 'ZSK1', 'ZSK2', 'ZSK3', 'Vola4', 'Vola5', 'Vola6', 'Verlust7', 'Verlust8', 'MR9', 'MR10', 'MR11', 'MR12', 'MR13', 'MR14', 'MR15', 'MR16', 'MR17', 'MR18', 'MR19', 'MR20', 'GCR', 'SF', 'VT', 'EM', 'SCR', 'Quote', 'SCR_Sterblichkeit', 'SCR_Langlebigkeit', 'SCR_Invalidität/Morbidität', 'SCR_Kosten', 'SCR_Stornoanstieg', 'SCR_Stornor\\x81ückgang', 'SCR_Massenstorno', 'SCR_Katastrophe', 'SCR_Zinsrü\\x81ckgang', 'SCR_Zinsanstieg', 'SCR_Zins', 'SCR_Aktien - sonstige', 'SCR_Aktien', 'SCR_Spread - Kreditderivate', 'SCR_Spread - Verbriefungen', 'SCR_Spread', 'SCR_Währung', 'SCR_Storno', 'SCR_Ausfall', 'SCR_vt. Risiko Leben', 'SCR_Marktrisiko', 'SCR_KV - Invalidität/Morbidität-Krankenkosten', 'SCR_KV - Storno', 'SCR_KV - Invalidität/Morbidität', 'SCR_vt. Risiko Kranken Leben', 'SCR_vt. Risiko Kranken']\n"
     ]
    }
   ],
   "source": [
    "# Load the header row to see the column names\n",
    "df_preview = pd.read_excel(\"BDSII Daten 2 - Original.xlsx\",\n",
    "                        sheet_name = \"Tabelle1\",\n",
    "                        nrows = 0)\n",
    "\n",
    "print(df_preview.columns.tolist())"
   ]
  },
  {
   "cell_type": "code",
   "execution_count": 12,
   "id": "4c87791b",
   "metadata": {},
   "outputs": [],
   "source": [
    "# Read the sheet \n",
    "df = pd.read_excel(\"BDSII Daten 2 - Original.xlsx\", sheet_name = \"Tabelle1\")\n",
    "\n",
    "# The columns we do not need\n",
    "cols_to_drop = [\n",
    "    \"GCR\",\n",
    "    \"SF\",\n",
    "    \"VT\",\n",
    "    \"SCR_Sterblichkeit\",\n",
    "    \"SCR_Langlebigkeit\",\n",
    "    \"SCR_Invalidität/Morbidität\",\n",
    "    \"SCR_Kosten\",\n",
    "    \"SCR_Stornoanstieg\",\n",
    "    \"SCR_Stornorückgang\",   \n",
    "    \"SCR_Stornorückgang\", \n",
    "    \"SCR_Zinsrückgang\",\n",
    "    \"SCR_Massenstorno\",\n",
    "    \"SCR_Katastrophe\",\n",
    "    \"SCR_Zinsrückgang\",\n",
    "    \"SCR_Zinsanstieg\",\n",
    "    \"SCR_Zins\",\n",
    "    \"SCR_Aktien - sonstige\",\n",
    "    \"SCR_Aktien\",\n",
    "    \"SCR_Spread - Kreditderivate\",\n",
    "    \"SCR_Spread - Verbriefungen\",\n",
    "    \"SCR_Spread\",\n",
    "    \"SCR_Währung\",\n",
    "    \"SCR_Storno\",\n",
    "    \"SCR_Ausfall\",\n",
    "    \"SCR_vt. Risiko Leben\",\n",
    "    \"SCR_Marktrisiko\",\n",
    "    \"SCR_KV - Invalidität/Morbidität-Krankenkosten\",\n",
    "    \"SCR_KV - Storno\",\n",
    "    \"SCR_KV - Invalidität/Morbidität\",\n",
    "    \"SCR_vt. Risiko Kranken Leben\",\n",
    "    \"SCR_vt. Risiko Kranken\"\n",
    "]\n",
    "\n",
    "# Drop the columns\n",
    "df = df.drop(columns = cols_to_drop, errors = \"ignore\")\n",
    "\n",
    "# Save the cleaned data to a csv file\n",
    "df.to_csv(\"BDSII_Daten_2_clean.csv\", index = False, encoding = \"utf-8\")"
   ]
  }
 ],
 "metadata": {
  "kernelspec": {
   "display_name": "base",
   "language": "python",
   "name": "python3"
  },
  "language_info": {
   "codemirror_mode": {
    "name": "ipython",
    "version": 3
   },
   "file_extension": ".py",
   "mimetype": "text/x-python",
   "name": "python",
   "nbconvert_exporter": "python",
   "pygments_lexer": "ipython3",
   "version": "3.12.8"
  }
 },
 "nbformat": 4,
 "nbformat_minor": 5
}
